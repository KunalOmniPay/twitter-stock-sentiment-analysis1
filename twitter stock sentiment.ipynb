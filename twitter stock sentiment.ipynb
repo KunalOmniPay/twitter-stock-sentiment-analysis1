{
 "cells": [
  {
   "cell_type": "code",
   "execution_count": 1,
   "metadata": {},
   "outputs": [],
   "source": [
    "import nltk"
   ]
  },
  {
   "cell_type": "code",
   "execution_count": 2,
   "metadata": {},
   "outputs": [],
   "source": [
    "from textblob import TextBlob as tb\n",
    "import tweepy"
   ]
  },
  {
   "cell_type": "code",
   "execution_count": 3,
   "metadata": {},
   "outputs": [
    {
     "name": "stdout",
     "output_type": "stream",
     "text": [
      "Sentiment(polarity=0.5, subjectivity=0.6)\n"
     ]
    }
   ],
   "source": [
    "a=tb(\"i love you\")\n",
    "print(format(a.sentiment))"
   ]
  },
  {
   "cell_type": "code",
   "execution_count": 29,
   "metadata": {},
   "outputs": [],
   "source": [
    "consumer_key = \"UsYaf70PhYv1xB6oS2sJ2wnzy\"\n",
    "consumer_key_secret = \"OrqFMmJNbUqv2UeLyrlqAZD3UurywAXA3SloH2MDFPTFAaQ2NR\" \n",
    "access_token =\"702116956665618432-1cfnNA9WdkjXpI1Npv3b5z4aDJLeQJJ\"\n",
    "access_token_secret = \"F3IKBNtFxhCBFQQX5qaBPoB1s1IuHLyBszFQuldMC5Z08\""
   ]
  },
  {
   "cell_type": "code",
   "execution_count": 30,
   "metadata": {},
   "outputs": [],
   "source": [
    "auth = tweepy.OAuthHandler(consumer_key, consumer_key_secret)\n",
    "auth.set_access_token(access_token, access_token_secret)\n",
    "api = tweepy.API(auth)"
   ]
  },
  {
   "cell_type": "code",
   "execution_count": 33,
   "metadata": {},
   "outputs": [],
   "source": [
    "public_tweets = api.search('tesla')"
   ]
  },
  {
   "cell_type": "code",
   "execution_count": 38,
   "metadata": {},
   "outputs": [
    {
     "name": "stdout",
     "output_type": "stream",
     "text": [
      "⭐️ Prueba del Tesla Model 3 [VÍDEO] https://t.co/St3l2QxRyz\n",
      "Sentiment(polarity=0.0, subjectivity=0.0)\n",
      "Neutral\n",
      "RT @God2be: A must see! Ark Invest's Cathie Wood defends her Tesla to $4,000 call - we need.more big $TSLA investors to step up &amp; tell the…\n",
      "Sentiment(polarity=0.0, subjectivity=0.1)\n",
      "Neutral\n",
      "xéroaハードついた！ https://t.co/VM8ChULdcO\n",
      "Sentiment(polarity=0.0, subjectivity=0.0)\n",
      "Neutral\n",
      "@franhermor @slcuervo @Eddie74pb @elconfidencial No es por tener 2 Tesla, sino por informarse para no mentir a la g… https://t.co/p3PYzcS9xJ\n",
      "Sentiment(polarity=0.0, subjectivity=0.0)\n",
      "Neutral\n",
      "1万の女 https://t.co/Nw40QjgBBK\n",
      "Sentiment(polarity=0.0, subjectivity=0.0)\n",
      "Neutral\n",
      "RT @RT_com: Watch this Tesla make a whole trip on FULL AUTOPILOT. Not all of them catch fire, right? https://t.co/qZ0hvEowtB\n",
      "Sentiment(polarity=0.2785714285714286, subjectivity=0.49523809523809526)\n",
      "Positive\n",
      "The family of an Apple engineer is suing Tesla over a deadly autopilot crash https://t.co/D0RcqRNwCE via @businessinsider\n",
      "Sentiment(polarity=-0.2, subjectivity=0.4)\n",
      "Negative\n",
      "Way to go #Tesla! Stick it to those gutless politicians and legacy auto industry  lobbyists who crafted the incenti… https://t.co/0AxvzCbnka\n",
      "Sentiment(polarity=0.0, subjectivity=0.0)\n",
      "Neutral\n",
      "@Tesla @Sankarihauta He will grow up to be a car guy\n",
      "Sentiment(polarity=0.0, subjectivity=0.0)\n",
      "Neutral\n",
      "I absolutely love Tesla. People talk about going green, saving the planet etc. Here is a company that is actually d… https://t.co/f7lpUQ5vev\n",
      "Sentiment(polarity=0.09999999999999999, subjectivity=0.3333333333333333)\n",
      "Positive\n",
      "RT @TomHimanen: My aquarium theory concerning the meaning of life. And the end of the world. I'm pretty sure that the next #Noah is called…\n",
      "Sentiment(polarity=0.25, subjectivity=0.6296296296296297)\n",
      "Positive\n",
      "RT @360_Hardware: Le obligan a que todos sus tweets tengan que ser revisados por un abogado por que le acusan de usar Twitter para manipula…\n",
      "Sentiment(polarity=0.0, subjectivity=0.0)\n",
      "Neutral\n",
      "93-mile Tax Credit Special Model 3 is..?\n",
      "https://t.co/jUkmqooarX\n",
      "Sentiment(polarity=0.35714285714285715, subjectivity=0.5714285714285714)\n",
      "Positive\n"
     ]
    }
   ],
   "source": [
    "for tweet in public_tweets:\n",
    "    print(tweet.text)\n",
    "    analysis =tb(tweet.text)\n",
    "    print(analysis.sentiment)\n",
    "    if analysis.sentiment[0]>0:\n",
    "       print ('Positive')\n",
    "    elif analysis.sentiment[0]<0:\n",
    "       print ('Negative')\n",
    "    else:\n",
    "       print ('Neutral')"
   ]
  },
  {
   "cell_type": "code",
   "execution_count": null,
   "metadata": {},
   "outputs": [],
   "source": []
  }
 ],
 "metadata": {
  "kernelspec": {
   "display_name": "Python 3",
   "language": "python",
   "name": "python3"
  },
  "language_info": {
   "codemirror_mode": {
    "name": "ipython",
    "version": 3
   },
   "file_extension": ".py",
   "mimetype": "text/x-python",
   "name": "python",
   "nbconvert_exporter": "python",
   "pygments_lexer": "ipython3",
   "version": "3.6.4"
  }
 },
 "nbformat": 4,
 "nbformat_minor": 2
}
